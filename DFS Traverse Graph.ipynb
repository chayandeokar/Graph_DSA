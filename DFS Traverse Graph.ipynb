{
 "cells": [
  {
   "cell_type": "code",
   "execution_count": 2,
   "id": "face6b62",
   "metadata": {},
   "outputs": [],
   "source": [
    "class stack:\n",
    "    def __init__(self):\n",
    "        self.list = []\n",
    "    \n",
    "    def isEmpty(self):\n",
    "        if self.list == []:\n",
    "            return True\n",
    "        else:\n",
    "            return False\n",
    "    \n",
    "    def push(self,value):\n",
    "        self.list.append(value)\n",
    "        return \"push \"\n",
    "    \n",
    "    def pop(self):\n",
    "        if self.isEmpty():\n",
    "            return\"not able to pop is empty .. \"\n",
    "        else:\n",
    "            return self.list.pop()\n",
    "        \n",
    "    def peek(self):\n",
    "        return self.list[-1]\n",
    "        \n",
    "    "
   ]
  },
  {
   "cell_type": "code",
   "execution_count": 3,
   "id": "4123d6cb",
   "metadata": {},
   "outputs": [],
   "source": [
    "def dfs(vertex):\n",
    "    visited = [vertex]\n",
    "    stack = [vertex]\n",
    "    while stack:\n",
    "        popvertex = stack.pop()\n",
    "        #print(popvertex)\n",
    "        for i in airports.listairports[popvertex]:\n",
    "            if i not in visited:\n",
    "                visited.append(i)\n",
    "                stack.append(i)\n",
    "    return visited"
   ]
  },
  {
   "cell_type": "code",
   "execution_count": null,
   "id": "74b68955",
   "metadata": {},
   "outputs": [],
   "source": []
  }
 ],
 "metadata": {
  "kernelspec": {
   "display_name": "Python 3 (ipykernel)",
   "language": "python",
   "name": "python3"
  },
  "language_info": {
   "codemirror_mode": {
    "name": "ipython",
    "version": 3
   },
   "file_extension": ".py",
   "mimetype": "text/x-python",
   "name": "python",
   "nbconvert_exporter": "python",
   "pygments_lexer": "ipython3",
   "version": "3.10.2"
  }
 },
 "nbformat": 4,
 "nbformat_minor": 5
}
