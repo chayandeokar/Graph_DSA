{
 "cells": [
  {
   "cell_type": "code",
   "execution_count": 1,
   "id": "8a7a1a77",
   "metadata": {},
   "outputs": [],
   "source": [
    "def bfs(city):\n",
    "    visited= []\n",
    "    queue = []\n",
    "    \n",
    "    #Enqueue:jaipur\n",
    "    queue.append(city)\n",
    "    \n",
    "    #adjacent city: child name\n",
    "    adjacentcity = airports.listAirports[city]\n",
    "    for i in adjacentcity:\n",
    "        queue.append(i)\n",
    "        \n",
    "    #marking : visited\n",
    "    if city not in visited:\n",
    "        visited.append(city)\n",
    "    \n",
    "    # Dequeue\n",
    "    queue.pop(0)\n",
    "    \n",
    "    \n",
    "    print(\"Marker : \" , visited)\n",
    "    print(queue)"
   ]
  },
  {
   "cell_type": "code",
   "execution_count": null,
   "id": "a8f97f35",
   "metadata": {},
   "outputs": [],
   "source": []
  }
 ],
 "metadata": {
  "kernelspec": {
   "display_name": "Python 3 (ipykernel)",
   "language": "python",
   "name": "python3"
  },
  "language_info": {
   "codemirror_mode": {
    "name": "ipython",
    "version": 3
   },
   "file_extension": ".py",
   "mimetype": "text/x-python",
   "name": "python",
   "nbconvert_exporter": "python",
   "pygments_lexer": "ipython3",
   "version": "3.10.2"
  }
 },
 "nbformat": 4,
 "nbformat_minor": 5
}
