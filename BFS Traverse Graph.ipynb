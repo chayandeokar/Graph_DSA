{
 "cells": [
  {
   "cell_type": "code",
   "execution_count": 1,
   "id": "d5fbab17",
   "metadata": {},
   "outputs": [],
   "source": [
    "def bfs(city):\n",
    "    visited= []\n",
    "    queue = []\n",
    "    \n",
    "    #Enqueue:jaipur\n",
    "    queue.append(city)\n",
    "    \n",
    "    #adjacent city: child name\n",
    "    adjacentcity = airports.listAirports[city]\n",
    "    for i in adjacentcity:\n",
    "        queue.append(i)\n",
    "        \n",
    "    #marking : visited\n",
    "    if city not in visited:\n",
    "        visited.append(city)\n",
    "    \n",
    "    # Dequeue\n",
    "    queue.pop(0)\n",
    "    \n",
    "    \n",
    "    print(\"Marker : \" , visited)\n",
    "    print(queue)"
   ]
  },
  {
   "cell_type": "code",
   "execution_count": 3,
   "id": "311a8f62",
   "metadata": {},
   "outputs": [],
   "source": [
    "def bfs_city(vertex):\n",
    "    visited = [vertex]\n",
    "    queue = [vertex]\n",
    "    \n",
    "    while queue:\n",
    "        devertex = queue.pop(0)\n",
    "        for i in airports.listAirports[vertex]:\n",
    "            if i not in visited:\n",
    "                visited.append(i)\n",
    "                queue.append(i)\n",
    "    return visited"
   ]
  },
  {
   "cell_type": "code",
   "execution_count": 10,
   "id": "fc8e27d6",
   "metadata": {},
   "outputs": [],
   "source": [
    "graph = {\n",
    "    'A': ['B', 'C'],\n",
    "    'B': ['A', 'D', 'E'],\n",
    "    'C': ['A', 'F'],\n",
    "    'D': ['B'],\n",
    "    'E': ['B', 'F'],\n",
    "    'F': ['C', 'E']\n",
    "}\n",
    "\n",
    "start_vertex = 'A'\n",
    "bfs(graph, start_vertex)"
   ]
  },
  {
   "cell_type": "code",
   "execution_count": 11,
   "id": "9622600f",
   "metadata": {},
   "outputs": [],
   "source": [
    "def bfs(graph, start_vertex):\n",
    "    visited = set()  # Set to keep track of visited vertices\n",
    "    queue = ()  # Queue for BFS traversal\n",
    "    # queue.append(start_vertex)\n",
    "    # visited.add(start_vertex)\n",
    "    \n",
    "    while queue:\n",
    "        current_vertex = queue.popleft()\n",
    "        print(current_vertex)  # Process the current vertex (or perform any desired operation)\n",
    "        \n",
    "        # Explore the adjacent vertices of the current vertex\n",
    "        for neighbor in graph[current_vertex]:\n",
    "            if neighbor not in visited:\n",
    "                queue.append(neighbor)\n",
    "                visited.add(neighbor)"
   ]
  },
  {
   "cell_type": "code",
   "execution_count": null,
   "id": "d20a2b7e",
   "metadata": {},
   "outputs": [],
   "source": []
  }
 ],
 "metadata": {
  "kernelspec": {
   "display_name": "Python 3 (ipykernel)",
   "language": "python",
   "name": "python3"
  },
  "language_info": {
   "codemirror_mode": {
    "name": "ipython",
    "version": 3
   },
   "file_extension": ".py",
   "mimetype": "text/x-python",
   "name": "python",
   "nbconvert_exporter": "python",
   "pygments_lexer": "ipython3",
   "version": "3.10.2"
  }
 },
 "nbformat": 4,
 "nbformat_minor": 5
}
