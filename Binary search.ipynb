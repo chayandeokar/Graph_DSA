{
 "cells": [
  {
   "cell_type": "code",
   "execution_count": 1,
   "id": "6fe7dc51",
   "metadata": {},
   "outputs": [],
   "source": [
    "cars = [5,3,1,2,8,4,7,6,9]"
   ]
  },
  {
   "cell_type": "code",
   "execution_count": 2,
   "id": "7efb83a0",
   "metadata": {},
   "outputs": [],
   "source": [
    "sorted_cars = sorted(cars)"
   ]
  },
  {
   "cell_type": "code",
   "execution_count": 3,
   "id": "9c6c6545",
   "metadata": {},
   "outputs": [
    {
     "data": {
      "text/plain": [
       "[1, 2, 3, 4, 5, 6, 7, 8, 9]"
      ]
     },
     "execution_count": 3,
     "metadata": {},
     "output_type": "execute_result"
    }
   ],
   "source": [
    "sorted_cars"
   ]
  },
  {
   "cell_type": "code",
   "execution_count": 4,
   "id": "7ef4d329",
   "metadata": {},
   "outputs": [
    {
     "name": "stdout",
     "output_type": "stream",
     "text": [
      "0 4 8\n",
      "right side\n",
      "5 6 8\n"
     ]
    }
   ],
   "source": [
    "start = 0\n",
    "end = len(sorted_cars) - 1\n",
    "value = 7\n",
    "\n",
    "middle = int ( ( start + end) / 2 )\n",
    "\n",
    "print(start, middle, end)\n",
    "\n",
    "while not sorted_cars[middle] == value:\n",
    "    if sorted_cars[middle] == value:\n",
    "        print(\"found\")\n",
    "\n",
    "    \n",
    "    elif sorted_cars[middle] < value:\n",
    "        print(\"right side\")\n",
    "        start = middle + 1\n",
    "        middle = int ( ( start + end) / 2 )\n",
    "\n",
    "\n",
    "    elif sorted_cars[middle] > value:\n",
    "        print(\"left side\")\n",
    "        end = middle - 1\n",
    "        middle = int ( ( start + end) / 2 )\n",
    "    \n",
    "    print(start, middle, end)"
   ]
  },
  {
   "cell_type": "code",
   "execution_count": 46,
   "id": "6fd29f63",
   "metadata": {},
   "outputs": [],
   "source": []
  },
  {
   "cell_type": "code",
   "execution_count": 47,
   "id": "ee80b524",
   "metadata": {
    "scrolled": true
   },
   "outputs": [
    {
     "data": {
      "text/plain": [
       "5"
      ]
     },
     "execution_count": 47,
     "metadata": {},
     "output_type": "execute_result"
    }
   ],
   "source": [
    "sorted_cars[middle]"
   ]
  },
  {
   "cell_type": "code",
   "execution_count": 48,
   "id": "eb579e79",
   "metadata": {},
   "outputs": [
    {
     "name": "stdout",
     "output_type": "stream",
     "text": [
      "found\n"
     ]
    }
   ],
   "source": [
    "if sorted_cars[middle] == value:\n",
    "    print(\"found\")\n",
    "elif sorted_cars[middle] < value:\n",
    "    print(\"right side\")\n",
    "elif sorted_cars[middle] > value:\n",
    "    print(\"left side\")\n"
   ]
  },
  {
   "cell_type": "code",
   "execution_count": null,
   "id": "425a11ab",
   "metadata": {},
   "outputs": [],
   "source": []
  }
 ],
 "metadata": {
  "kernelspec": {
   "display_name": "Python 3 (ipykernel)",
   "language": "python",
   "name": "python3"
  },
  "language_info": {
   "codemirror_mode": {
    "name": "ipython",
    "version": 3
   },
   "file_extension": ".py",
   "mimetype": "text/x-python",
   "name": "python",
   "nbconvert_exporter": "python",
   "pygments_lexer": "ipython3",
   "version": "3.10.2"
  }
 },
 "nbformat": 4,
 "nbformat_minor": 5
}
