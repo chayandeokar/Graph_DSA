{
 "cells": [
  {
   "cell_type": "code",
   "execution_count": 33,
   "id": "e0c9538f",
   "metadata": {},
   "outputs": [],
   "source": [
    "data = [5,9,3,1,2,8,4,7,6]"
   ]
  },
  {
   "cell_type": "code",
   "execution_count": 30,
   "id": "c63ab11e",
   "metadata": {},
   "outputs": [
    {
     "name": "stdout",
     "output_type": "stream",
     "text": [
      "\n",
      " at position :  0 sorted\n",
      "\n",
      " at position :  0 unsorted\n",
      "\n",
      " at position :  0 unsorted\n",
      "\n",
      " at position :  0 unsorted\n",
      "\n",
      " at position :  0 unsorted\n",
      "\n",
      " at position :  0 unsorted\n",
      "\n",
      " at position :  0 unsorted\n",
      "\n",
      " at position :  0 unsorted\n",
      "\n",
      " at position :  1 unsorted\n",
      "\n",
      " at position :  1 unsorted\n",
      "\n",
      " at position :  1 unsorted\n",
      "\n",
      " at position :  1 sorted\n",
      "\n",
      " at position :  1 unsorted\n",
      "\n",
      " at position :  1 unsorted\n",
      "\n",
      " at position :  1 unsorted\n",
      "\n",
      " at position :  2 unsorted\n",
      "\n",
      " at position :  2 unsorted\n",
      "\n",
      " at position :  2 sorted\n",
      "\n",
      " at position :  2 unsorted\n",
      "\n",
      " at position :  2 sorted\n",
      "\n",
      " at position :  2 unsorted\n",
      "\n",
      " at position :  3 sorted\n",
      "\n",
      " at position :  3 sorted\n",
      "\n",
      " at position :  3 sorted\n",
      "\n",
      " at position :  3 sorted\n",
      "\n",
      " at position :  3 sorted\n",
      "\n",
      " at position :  4 sorted\n",
      "\n",
      " at position :  4 sorted\n",
      "\n",
      " at position :  4 sorted\n",
      "\n",
      " at position :  4 sorted\n",
      "\n",
      " at position :  5 sorted\n",
      "\n",
      " at position :  5 sorted\n",
      "\n",
      " at position :  5 sorted\n",
      "\n",
      " at position :  6 sorted\n",
      "\n",
      " at position :  6 sorted\n",
      "\n",
      " at position :  7 sorted\n"
     ]
    }
   ],
   "source": [
    "    for i in range(len(data) - 1):\n",
    "        for j in range(len(data) - 1 - i):\n",
    "            print(\"\\n at position : \" , i , end='')\n",
    "\n",
    "            if data[j] < data[j+1]:\n",
    "                print(\" sorted\")\n",
    "            else:\n",
    "                print(\" unsorted\")\n",
    "                data[j] , data[j+1] = data[j+1] , data[j]\n",
    "\n"
   ]
  },
  {
   "cell_type": "code",
   "execution_count": 35,
   "id": "0b6d8bd6",
   "metadata": {},
   "outputs": [
    {
     "data": {
      "text/plain": [
       "[5, 9, 3, 1, 2, 8, 4, 7, 6]"
      ]
     },
     "execution_count": 35,
     "metadata": {},
     "output_type": "execute_result"
    }
   ],
   "source": [
    "data"
   ]
  },
  {
   "cell_type": "code",
   "execution_count": 34,
   "id": "19b4cdbb",
   "metadata": {},
   "outputs": [],
   "source": [
    "def bubblesort(data):\n",
    "    for i in range(len(data) - 1):\n",
    "        for j in range(len(data) - 1 - i):\n",
    "            if data[j] > data[j+1]:\n",
    "                data[j] , data[j+1] = data[j+1] , data[j]\n",
    "\n"
   ]
  },
  {
   "cell_type": "code",
   "execution_count": 36,
   "id": "304abc2b",
   "metadata": {},
   "outputs": [],
   "source": [
    "bubblesort()"
   ]
  },
  {
   "cell_type": "code",
   "execution_count": 37,
   "id": "9036b270",
   "metadata": {},
   "outputs": [
    {
     "data": {
      "text/plain": [
       "[1, 2, 3, 4, 5, 6, 7, 8, 9]"
      ]
     },
     "execution_count": 37,
     "metadata": {},
     "output_type": "execute_result"
    }
   ],
   "source": [
    "data"
   ]
  },
  {
   "cell_type": "code",
   "execution_count": null,
   "id": "9f209dca",
   "metadata": {},
   "outputs": [],
   "source": []
  }
 ],
 "metadata": {
  "kernelspec": {
   "display_name": "Python 3 (ipykernel)",
   "language": "python",
   "name": "python3"
  },
  "language_info": {
   "codemirror_mode": {
    "name": "ipython",
    "version": 3
   },
   "file_extension": ".py",
   "mimetype": "text/x-python",
   "name": "python",
   "nbconvert_exporter": "python",
   "pygments_lexer": "ipython3",
   "version": "3.10.2"
  }
 },
 "nbformat": 4,
 "nbformat_minor": 5
}
