{
 "cells": [
  {
   "cell_type": "code",
   "execution_count": 1,
   "id": "ac8d499c",
   "metadata": {},
   "outputs": [],
   "source": [
    "def insertion_sort(arr):\n",
    "    n = len(arr)\n",
    "    \n",
    "    for i in range(1 , n):\n",
    "        key = arr[i]\n",
    "        j = i - 1\n",
    "        \n",
    "        while ( j >= 0 and key < arr[j]):\n",
    "            arr[j+1] = arr[j]\n",
    "            j = j -1\n",
    "        arr[j+1] = key\n",
    "        "
   ]
  },
  {
   "cell_type": "code",
   "execution_count": 2,
   "id": "cff0d793",
   "metadata": {},
   "outputs": [],
   "source": [
    "arr = [5,3,9,7,2]"
   ]
  },
  {
   "cell_type": "code",
   "execution_count": 4,
   "id": "f0992311",
   "metadata": {},
   "outputs": [],
   "source": [
    "insertion_sort(arr)"
   ]
  },
  {
   "cell_type": "code",
   "execution_count": 7,
   "id": "7bc26067",
   "metadata": {},
   "outputs": [
    {
     "name": "stdout",
     "output_type": "stream",
     "text": [
      "[2, 3, 5, 7, 9]\n"
     ]
    }
   ],
   "source": [
    "print(arr)"
   ]
  },
  {
   "cell_type": "code",
   "execution_count": null,
   "id": "be844c82",
   "metadata": {},
   "outputs": [],
   "source": []
  }
 ],
 "metadata": {
  "kernelspec": {
   "display_name": "Python 3 (ipykernel)",
   "language": "python",
   "name": "python3"
  },
  "language_info": {
   "codemirror_mode": {
    "name": "ipython",
    "version": 3
   },
   "file_extension": ".py",
   "mimetype": "text/x-python",
   "name": "python",
   "nbconvert_exporter": "python",
   "pygments_lexer": "ipython3",
   "version": "3.10.2"
  }
 },
 "nbformat": 4,
 "nbformat_minor": 5
}
