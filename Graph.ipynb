{
 "cells": [
  {
   "cell_type": "code",
   "execution_count": 81,
   "id": "5ec677a7",
   "metadata": {},
   "outputs": [],
   "source": [
    "class graph:\n",
    "    def __init__(self):\n",
    "        self.listAirports = {}\n",
    "    \n",
    "    def addEdge(self,city , connections):\n",
    "        if city in self.listAirports.keys():\n",
    "            self.listAirports[city].append(connections)\n",
    "        else:\n",
    "            self.listAirports[city] = [connections]"
   ]
  },
  {
   "cell_type": "code",
   "execution_count": 82,
   "id": "4839f4f5",
   "metadata": {},
   "outputs": [],
   "source": [
    "airports = graph()"
   ]
  },
  {
   "cell_type": "code",
   "execution_count": 83,
   "id": "40a71e1c",
   "metadata": {},
   "outputs": [
    {
     "data": {
      "text/plain": [
       "{'listAirports': {}}"
      ]
     },
     "execution_count": 83,
     "metadata": {},
     "output_type": "execute_result"
    }
   ],
   "source": [
    "airports.__dict__"
   ]
  },
  {
   "cell_type": "code",
   "execution_count": 84,
   "id": "e1d89290",
   "metadata": {},
   "outputs": [],
   "source": [
    "airports.addEdge(\"jaipur\" , \"Mum\")\n",
    "airports.addEdge(\"jaipur\" , \"Del\")\n",
    "airports.addEdge(\"jaipur\" , \"Hyd\")\n",
    "airports.addEdge(\"Mum\" , \"Jai\")\n",
    "airports.addEdge(\"Mum\" , \"Del\")\n",
    "airports.addEdge(\"Mum\" , \"Bang\")\n"
   ]
  },
  {
   "cell_type": "code",
   "execution_count": null,
   "id": "57f9ac06",
   "metadata": {},
   "outputs": [],
   "source": []
  },
  {
   "cell_type": "code",
   "execution_count": 85,
   "id": "ef684516",
   "metadata": {},
   "outputs": [
    {
     "data": {
      "text/plain": [
       "{'jaipur': ['Mum', 'Del', 'Hyd'], 'Mum': ['Jai', 'Del', 'Bang']}"
      ]
     },
     "execution_count": 85,
     "metadata": {},
     "output_type": "execute_result"
    }
   ],
   "source": [
    "airports.listAirports"
   ]
  },
  {
   "cell_type": "code",
   "execution_count": 86,
   "id": "76b80fd3",
   "metadata": {},
   "outputs": [],
   "source": [
    "def bfs(city):\n",
    "    visited= []\n",
    "    queue = []\n",
    "    \n",
    "    #Enqueue:jaipur\n",
    "    queue.append(city)\n",
    "    \n",
    "    #adjacent city: child name\n",
    "    adjacentcity = airports.listAirports[city]\n",
    "    for i in adjacentcity:\n",
    "        queue.append(i)\n",
    "        \n",
    "    #marking : visited\n",
    "    if city not in visited:\n",
    "        visited.append(city)\n",
    "    \n",
    "    # Dequeue\n",
    "    queue.pop(0)\n",
    "    \n",
    "    \n",
    "    print(\"Marker : \" , visited)\n",
    "    print(queue)"
   ]
  },
  {
   "cell_type": "code",
   "execution_count": 87,
   "id": "94a109f7",
   "metadata": {},
   "outputs": [
    {
     "name": "stdout",
     "output_type": "stream",
     "text": [
      "['jaipur']\n",
      "['jaipur', 'Mum', 'Del', 'Hyd', 'jaipur']\n"
     ]
    }
   ],
   "source": [
    "bfs(\"jaipur\")"
   ]
  },
  {
   "cell_type": "code",
   "execution_count": null,
   "id": "31c5603c",
   "metadata": {},
   "outputs": [],
   "source": []
  },
  {
   "cell_type": "code",
   "execution_count": null,
   "id": "1681c5c1",
   "metadata": {},
   "outputs": [],
   "source": []
  },
  {
   "cell_type": "code",
   "execution_count": null,
   "id": "9f66faa1",
   "metadata": {},
   "outputs": [],
   "source": []
  },
  {
   "cell_type": "code",
   "execution_count": null,
   "id": "a97d45e1",
   "metadata": {},
   "outputs": [],
   "source": []
  },
  {
   "cell_type": "code",
   "execution_count": 9,
   "id": "c675a914",
   "metadata": {},
   "outputs": [],
   "source": [
    "airports.gdict['jaipur'] = [\"Delhi\"]"
   ]
  },
  {
   "cell_type": "code",
   "execution_count": 10,
   "id": "83c58152",
   "metadata": {},
   "outputs": [],
   "source": [
    "airports.gdict['jaipur'].append(\"hyd\")"
   ]
  },
  {
   "cell_type": "code",
   "execution_count": 13,
   "id": "6ba42fc6",
   "metadata": {},
   "outputs": [],
   "source": [
    "airports.gdict['jaipur'].append(\"Mumbai\")"
   ]
  },
  {
   "cell_type": "code",
   "execution_count": 14,
   "id": "cc7b6c7e",
   "metadata": {
    "scrolled": true
   },
   "outputs": [
    {
     "data": {
      "text/plain": [
       "{'jaipur': ['Delhi', 'hyd', 'Mumbai']}"
      ]
     },
     "execution_count": 14,
     "metadata": {},
     "output_type": "execute_result"
    }
   ],
   "source": [
    "airports.gdict"
   ]
  },
  {
   "cell_type": "code",
   "execution_count": null,
   "id": "bd218622",
   "metadata": {},
   "outputs": [],
   "source": []
  }
 ],
 "metadata": {
  "kernelspec": {
   "display_name": "Python 3 (ipykernel)",
   "language": "python",
   "name": "python3"
  },
  "language_info": {
   "codemirror_mode": {
    "name": "ipython",
    "version": 3
   },
   "file_extension": ".py",
   "mimetype": "text/x-python",
   "name": "python",
   "nbconvert_exporter": "python",
   "pygments_lexer": "ipython3",
   "version": "3.10.2"
  }
 },
 "nbformat": 4,
 "nbformat_minor": 5
}
