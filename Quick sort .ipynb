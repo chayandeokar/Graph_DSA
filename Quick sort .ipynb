{
 "cells": [
  {
   "cell_type": "code",
   "execution_count": 8,
   "id": "1f0d904a",
   "metadata": {},
   "outputs": [],
   "source": [
    "def partition(arr,low,high):\n",
    "    pivot = arr[high]\n",
    "    i = low - 1\n",
    "    \n",
    "    for j in range(low ,high):\n",
    "        if arr[j] <= pivot:\n",
    "            i += 1\n",
    "            arr[i] , arr[j] = arr[j] , arr[i]\n",
    "    arr[i+1] , arr[high] = arr[high] , arr[i+1]\n",
    "    return i+1\n",
    "\n",
    "def quicksort(arr,low,high):\n",
    "    if low < high:\n",
    "        pi = partition(arr,low,high)\n",
    "        quicksort(arr,low,pi-1)\n",
    "        quicksort(arr,pi+1,high)"
   ]
  },
  {
   "cell_type": "code",
   "execution_count": 9,
   "id": "59a5ca0e",
   "metadata": {},
   "outputs": [
    {
     "name": "stdout",
     "output_type": "stream",
     "text": [
      "Unsorted Array\n",
      "[1, 7, 4, 1, 10, 9, -2]\n"
     ]
    }
   ],
   "source": [
    "data = [1, 7, 4, 1, 10, 9, -2]\n",
    "print(\"Unsorted Array\")\n",
    "print(data)"
   ]
  },
  {
   "cell_type": "code",
   "execution_count": 10,
   "id": "2d59952e",
   "metadata": {},
   "outputs": [
    {
     "name": "stdout",
     "output_type": "stream",
     "text": [
      "Sorted Array in Ascending Order:\n",
      "[-2, 1, 1, 4, 7, 9, 10]\n"
     ]
    }
   ],
   "source": [
    "size = len(data)\n",
    " \n",
    "quicksort(data, 0, size - 1)\n",
    " \n",
    "print('Sorted Array in Ascending Order:')\n",
    "print(data)"
   ]
  },
  {
   "cell_type": "code",
   "execution_count": null,
   "id": "076d074a",
   "metadata": {},
   "outputs": [],
   "source": []
  }
 ],
 "metadata": {
  "kernelspec": {
   "display_name": "Python 3 (ipykernel)",
   "language": "python",
   "name": "python3"
  },
  "language_info": {
   "codemirror_mode": {
    "name": "ipython",
    "version": 3
   },
   "file_extension": ".py",
   "mimetype": "text/x-python",
   "name": "python",
   "nbconvert_exporter": "python",
   "pygments_lexer": "ipython3",
   "version": "3.10.2"
  }
 },
 "nbformat": 4,
 "nbformat_minor": 5
}
