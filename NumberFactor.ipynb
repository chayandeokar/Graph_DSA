{
 "cells": [
  {
   "cell_type": "code",
   "execution_count": 1,
   "id": "05c741b9",
   "metadata": {},
   "outputs": [],
   "source": [
    "def numberFactor(n):\n",
    "    if n in (0,1,2):\n",
    "        return 1\n",
    "    elif n == 3:\n",
    "        return 2\n",
    "    else:\n",
    "        sp1 = numberFactor(n-1)\n",
    "        sp2 = numberFactor(n-3)\n",
    "        sp3 = numberFactor(n-4)\n",
    "    return sp1 + sp2 + sp3"
   ]
  },
  {
   "cell_type": "code",
   "execution_count": 2,
   "id": "e7f6df3a",
   "metadata": {},
   "outputs": [
    {
     "data": {
      "text/plain": [
       "6"
      ]
     },
     "execution_count": 2,
     "metadata": {},
     "output_type": "execute_result"
    }
   ],
   "source": [
    "numberFactor(5)"
   ]
  },
  {
   "cell_type": "code",
   "execution_count": null,
   "id": "adcfad13",
   "metadata": {},
   "outputs": [],
   "source": []
  }
 ],
 "metadata": {
  "kernelspec": {
   "display_name": "Python 3 (ipykernel)",
   "language": "python",
   "name": "python3"
  },
  "language_info": {
   "codemirror_mode": {
    "name": "ipython",
    "version": 3
   },
   "file_extension": ".py",
   "mimetype": "text/x-python",
   "name": "python",
   "nbconvert_exporter": "python",
   "pygments_lexer": "ipython3",
   "version": "3.10.2"
  }
 },
 "nbformat": 4,
 "nbformat_minor": 5
}
