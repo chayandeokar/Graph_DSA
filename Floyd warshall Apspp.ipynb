{
 "cells": [
  {
   "cell_type": "code",
   "execution_count": 1,
   "id": "7fc83d74",
   "metadata": {},
   "outputs": [],
   "source": [
    "INF = 9999999"
   ]
  },
  {
   "cell_type": "code",
   "execution_count": 9,
   "id": "5b39800c",
   "metadata": {},
   "outputs": [],
   "source": [
    "graphds = [\n",
    "        [0,8,INF,1],\n",
    "        [INF,0,1,INF],\n",
    "        [4,INF,0,INF],\n",
    "        [INF,2,9,0]\n",
    "    ]"
   ]
  },
  {
   "cell_type": "code",
   "execution_count": 10,
   "id": "a8a1455e",
   "metadata": {},
   "outputs": [
    {
     "data": {
      "text/plain": [
       "4"
      ]
     },
     "execution_count": 10,
     "metadata": {},
     "output_type": "execute_result"
    }
   ],
   "source": [
    "#cost c--> A\n",
    "graphds[2][0]"
   ]
  },
  {
   "cell_type": "code",
   "execution_count": 11,
   "id": "cf424dee",
   "metadata": {},
   "outputs": [
    {
     "data": {
      "text/plain": [
       "12"
      ]
     },
     "execution_count": 11,
     "metadata": {},
     "output_type": "execute_result"
    }
   ],
   "source": [
    "graphds[2][0] + graphds[0][1]"
   ]
  },
  {
   "cell_type": "code",
   "execution_count": 12,
   "id": "06c52eca",
   "metadata": {},
   "outputs": [
    {
     "data": {
      "text/plain": [
       "10000001"
      ]
     },
     "execution_count": 12,
     "metadata": {},
     "output_type": "execute_result"
    }
   ],
   "source": [
    "graphds[2][3] + graphds[3][1]"
   ]
  },
  {
   "cell_type": "code",
   "execution_count": 15,
   "id": "7f85f7dc",
   "metadata": {},
   "outputs": [],
   "source": [
    "graphds[2][1] = min(graphds[2][0] + graphds[0][1] ,graphds[2][3] + graphds[3][1] )"
   ]
  },
  {
   "cell_type": "code",
   "execution_count": 16,
   "id": "95e29644",
   "metadata": {},
   "outputs": [
    {
     "data": {
      "text/plain": [
       "[[0, 8, 9999999, 1],\n",
       " [9999999, 0, 1, 9999999],\n",
       " [4, 12, 0, 9999999],\n",
       " [9999999, 2, 9, 0]]"
      ]
     },
     "execution_count": 16,
     "metadata": {},
     "output_type": "execute_result"
    }
   ],
   "source": [
    "graphds"
   ]
  },
  {
   "cell_type": "code",
   "execution_count": null,
   "id": "065da454",
   "metadata": {},
   "outputs": [],
   "source": [
    "\n",
    "\n"
   ]
  },
  {
   "cell_type": "code",
   "execution_count": null,
   "id": "895110c0",
   "metadata": {},
   "outputs": [],
   "source": []
  },
  {
   "cell_type": "code",
   "execution_count": 22,
   "id": "9cfd0d63",
   "metadata": {},
   "outputs": [],
   "source": [
    "# 0(v^3)\n",
    "\n",
    "def floydwarshal(ver , data):\n",
    "    graph = data\n",
    "    for k in range(ver):\n",
    "        for i in range(ver):\n",
    "            for j in range(ver):\n",
    "                graph[i][j] = min(graph[i][k] + graph[k][j] ,graph[i][j] )"
   ]
  },
  {
   "cell_type": "code",
   "execution_count": 23,
   "id": "90a85af0",
   "metadata": {},
   "outputs": [],
   "source": [
    "floydwarshal(4,graphds)"
   ]
  },
  {
   "cell_type": "code",
   "execution_count": 24,
   "id": "d180d2c2",
   "metadata": {},
   "outputs": [
    {
     "data": {
      "text/plain": [
       "[[0, 3, 4, 1], [5, 0, 1, 6], [4, 7, 0, 5], [7, 2, 3, 0]]"
      ]
     },
     "execution_count": 24,
     "metadata": {},
     "output_type": "execute_result"
    }
   ],
   "source": [
    "graphds"
   ]
  },
  {
   "cell_type": "code",
   "execution_count": null,
   "id": "a47b072b",
   "metadata": {},
   "outputs": [],
   "source": []
  }
 ],
 "metadata": {
  "kernelspec": {
   "display_name": "Python 3 (ipykernel)",
   "language": "python",
   "name": "python3"
  },
  "language_info": {
   "codemirror_mode": {
    "name": "ipython",
    "version": 3
   },
   "file_extension": ".py",
   "mimetype": "text/x-python",
   "name": "python",
   "nbconvert_exporter": "python",
   "pygments_lexer": "ipython3",
   "version": "3.10.2"
  }
 },
 "nbformat": 4,
 "nbformat_minor": 5
}
